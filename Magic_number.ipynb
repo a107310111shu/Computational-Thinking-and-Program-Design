{
  "nbformat": 4,
  "nbformat_minor": 0,
  "metadata": {
    "colab": {
      "name": "Magic_number",
      "provenance": [],
      "collapsed_sections": [],
      "authorship_tag": "ABX9TyM4MBsVmZauNUMCbj0+BbTX",
      "include_colab_link": true
    },
    "kernelspec": {
      "name": "python3",
      "display_name": "Python 3"
    }
  },
  "cells": [
    {
      "cell_type": "markdown",
      "metadata": {
        "id": "view-in-github",
        "colab_type": "text"
      },
      "source": [
        "<a href=\"https://colab.research.google.com/github/a107310111shu/Computational-Thinking-and-Program-Design/blob/master/Magic_number.ipynb\" target=\"_parent\"><img src=\"https://colab.research.google.com/assets/colab-badge.svg\" alt=\"Open In Colab\"/></a>"
      ]
    },
    {
      "cell_type": "code",
      "metadata": {
        "id": "7tcbvO8VR5vw",
        "outputId": "5f1ebf78-5990-4c43-e19a-7088577cbd94",
        "colab": {
          "base_uri": "https://localhost:8080/"
        }
      },
      "source": [
        "Magic_number = 333**1 %334\n",
        "print(Magic_number)"
      ],
      "execution_count": 1,
      "outputs": [
        {
          "output_type": "stream",
          "text": [
            "333\n"
          ],
          "name": "stdout"
        }
      ]
    }
  ]
}