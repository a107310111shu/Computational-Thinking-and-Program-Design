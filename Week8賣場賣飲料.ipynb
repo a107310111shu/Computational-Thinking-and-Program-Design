{
  "nbformat": 4,
  "nbformat_minor": 0,
  "metadata": {
    "colab": {
      "name": "Week8賣場賣飲料.ipynb",
      "provenance": [],
      "authorship_tag": "ABX9TyOmJ72PdygZ368X3Y3vjpTR",
      "include_colab_link": true
    },
    "kernelspec": {
      "name": "python3",
      "display_name": "Python 3"
    }
  },
  "cells": [
    {
      "cell_type": "markdown",
      "metadata": {
        "id": "view-in-github",
        "colab_type": "text"
      },
      "source": [
        "<a href=\"https://colab.research.google.com/github/a107310111shu/Computational-Thinking-and-Program-Design/blob/master/Week8%E8%B3%A3%E5%A0%B4%E8%B3%A3%E9%A3%B2%E6%96%99.ipynb\" target=\"_parent\"><img src=\"https://colab.research.google.com/assets/colab-badge.svg\" alt=\"Open In Colab\"/></a>"
      ]
    },
    {
      "cell_type": "code",
      "metadata": {
        "id": "01EoS_ijhFjb",
        "outputId": "0397a856-a229-48df-8eb3-95a3a5389485",
        "colab": {
          "base_uri": "https://localhost:8080/"
        }
      },
      "source": [
        "Cans=int(input(\"請輸入購買的飲料罐數\"))\n",
        "Total=(Cans//12)*200+(Cans%12)*20\n",
        "print(\"需花費\",Total)"
      ],
      "execution_count": 1,
      "outputs": [
        {
          "output_type": "stream",
          "text": [
            "請輸入購買的飲料罐數63\n",
            "需花費 1060\n"
          ],
          "name": "stdout"
        }
      ]
    }
  ]
}