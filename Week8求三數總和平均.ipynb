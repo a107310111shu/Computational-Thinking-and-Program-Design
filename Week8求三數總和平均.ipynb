{
  "nbformat": 4,
  "nbformat_minor": 0,
  "metadata": {
    "colab": {
      "name": "Week8求三數總和平均.ipynb",
      "provenance": [],
      "authorship_tag": "ABX9TyOHi25zo5i2jvkAQ/lp69Mg",
      "include_colab_link": true
    },
    "kernelspec": {
      "name": "python3",
      "display_name": "Python 3"
    }
  },
  "cells": [
    {
      "cell_type": "markdown",
      "metadata": {
        "id": "view-in-github",
        "colab_type": "text"
      },
      "source": [
        "<a href=\"https://colab.research.google.com/github/a107310111shu/Computational-Thinking-and-Program-Design/blob/master/Week8%E6%B1%82%E4%B8%89%E6%95%B8%E7%B8%BD%E5%92%8C%E5%B9%B3%E5%9D%87.ipynb\" target=\"_parent\"><img src=\"https://colab.research.google.com/assets/colab-badge.svg\" alt=\"Open In Colab\"/></a>"
      ]
    },
    {
      "cell_type": "code",
      "metadata": {
        "id": "V_VVdJU2hsc0",
        "outputId": "ee6f7735-f5d9-46ef-81f1-0f2754862958",
        "colab": {
          "base_uri": "https://localhost:8080/"
        }
      },
      "source": [
        "first=int(input(\"請輸入第一次期中考的成績\"))\n",
        "second=int(input(\"請輸入第二次期中考成績\"))\n",
        "final=int(input(\"請輸入期末考成績\"))\n",
        "total=first+second+final\n",
        "average=total/3\n",
        "print(\"總分為\",total,\"全年總平均分為\",average)"
      ],
      "execution_count": 2,
      "outputs": [
        {
          "output_type": "stream",
          "text": [
            "請輸入第一次期中考的成績90\n",
            "請輸入第二次期中考成績90\n",
            "請輸入期末考成績80\n",
            "總分為 260 平均為 86.66666666666667\n"
          ],
          "name": "stdout"
        }
      ]
    }
  ]
}