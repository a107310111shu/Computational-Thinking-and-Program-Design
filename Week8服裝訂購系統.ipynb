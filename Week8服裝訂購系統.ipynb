{
  "nbformat": 4,
  "nbformat_minor": 0,
  "metadata": {
    "colab": {
      "name": "服裝訂購系統.ipynb",
      "provenance": [],
      "authorship_tag": "ABX9TyOQ4Jpk28Ht8q4rU0G/G2kc",
      "include_colab_link": true
    },
    "kernelspec": {
      "name": "python3",
      "display_name": "Python 3"
    }
  },
  "cells": [
    {
      "cell_type": "markdown",
      "metadata": {
        "id": "view-in-github",
        "colab_type": "text"
      },
      "source": [
        "<a href=\"https://colab.research.google.com/github/a107310111shu/Computational-Thinking-and-Program-Design/blob/master/Week8%E6%9C%8D%E8%A3%9D%E8%A8%82%E8%B3%BC%E7%B3%BB%E7%B5%B1.ipynb\" target=\"_parent\"><img src=\"https://colab.research.google.com/assets/colab-badge.svg\" alt=\"Open In Colab\"/></a>"
      ]
    },
    {
      "cell_type": "code",
      "metadata": {
        "id": "upFI9gePeFFO",
        "outputId": "7887b9b1-2081-4fb0-b2bb-2e10fd05ee08",
        "colab": {
          "base_uri": "https://localhost:8080/"
        }
      },
      "source": [
        "X=int(input(\"請輸入上衣的數量\"))\n",
        "Y=int(input(\"請輸入褲子的數量\"))\n",
        "Z=int(input(\"請輸入背心的數量\"))\n",
        "\n",
        "Total=300*X+350*Y+400*Z\n",
        "\n",
        "print(\"訂購服網的總金額為\",Total)\n",
        "print(\"感謝使用此訂購系統\")"
      ],
      "execution_count": 1,
      "outputs": [
        {
          "output_type": "stream",
          "text": [
            "請輸入上衣的數量5\n",
            "請輸入褲子的數量5\n",
            "請輸入背心的數量5\n",
            "訂購服網的總金額為 5250\n",
            "感謝使用此訂購系統\n"
          ],
          "name": "stdout"
        }
      ]
    }
  ]
}